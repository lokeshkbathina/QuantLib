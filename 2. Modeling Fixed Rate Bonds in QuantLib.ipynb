{
 "cells": [
  {
   "cell_type": "markdown",
   "metadata": {},
   "source": [
    "Let's consider a hypothetical bons with a par value of 100, that pays 6% coupon semi-annually issued on January 15th, 2015 and set to mature on January 15th, 2016. The bond will pay a coupon on July 15th, 2015 and January 15th, 2016. The par amount of 100 will also be paid on the January 15th, 2016."
   ]
  },
  {
   "cell_type": "markdown",
   "metadata": {},
   "source": [
    "To make things simpler, lets assume that we know the spot rate of the treasury as of January 15th, 2015. The annualized spot rates are 0.5% for 6 months and 0.7% for 1 year point. Lets calculate the fair value of this bond."
   ]
  },
  {
   "cell_type": "code",
   "execution_count": 10,
   "metadata": {},
   "outputs": [
    {
     "data": {
      "text/plain": [
       "105.27653992490681"
      ]
     },
     "execution_count": 10,
     "metadata": {},
     "output_type": "execute_result"
    }
   ],
   "source": [
    "PV_Jul = 3/pow(1+0.005, 1/2)\n",
    "PV_Jan = (100+3)/pow(1+0.007, 1)\n",
    "FV = PV_Jul+PV_Jan\n",
    "FV"
   ]
  },
  {
   "cell_type": "markdown",
   "metadata": {},
   "source": [
    "Lets calculate the same thing using QuantLib"
   ]
  },
  {
   "cell_type": "code",
   "execution_count": 11,
   "metadata": {},
   "outputs": [],
   "source": [
    "import QuantLib as ql"
   ]
  },
  {
   "cell_type": "code",
   "execution_count": 14,
   "metadata": {},
   "outputs": [],
   "source": [
    "todaysDate = ql.Date(15, 1, 2015)\n",
    "ql.Settings.instance().evaluationDate = todaysDate\n",
    "spotDates = [ql.Date(15, 1, 2015), ql.Date(15, 6, 2015), ql.Date(15, 1, 2016)]\n",
    "spotRates = [0.0, 0.005, 0.007]\n",
    "dayCount = ql.Thirty360(ql.Thirty360.BondBasis)\n",
    "calendar = ql.UnitedStates(ql.UnitedStates.NYSE)\n",
    "interpolation = ql.Linear()\n",
    "compounding = ql.Compounded\n",
    "compoundingFrequency = ql.Annual"
   ]
  },
  {
   "cell_type": "code",
   "execution_count": 16,
   "metadata": {},
   "outputs": [],
   "source": [
    "# construct a term structure of spot rates (used to price bonds and other interest rate derivatives)\n",
    "spotCurve = ql.ZeroCurve(spotDates, spotRates, dayCount, calendar, interpolation, compounding, compoundingFrequency)\n",
    "spotCurveHandle = ql.YieldTermStructureHandle(spotCurve)"
   ]
  },
  {
   "cell_type": "markdown",
   "metadata": {},
   "source": [
    "So far we have created the term structure and the variables are rather self explanatory. Now lets contruct the fixed rate bond. "
   ]
  },
  {
   "cell_type": "code",
   "execution_count": 18,
   "metadata": {},
   "outputs": [],
   "source": [
    "issueDate = ql.Date(15, 1, 2015)\n",
    "maturityDate = ql.Date(15, 1, 2016)\n",
    "tenor = ql.Period(ql.Semiannual)\n",
    "calendar = ql.UnitedStates(ql.UnitedStates.NYSE)        \n",
    "businessConvention = ql.Unadjusted                    \n",
    "dateGeneration = ql.DateGeneration.Backward\n",
    "monthEnd = False\n"
   ]
  },
  {
   "cell_type": "code",
   "execution_count": 19,
   "metadata": {},
   "outputs": [
    {
     "data": {
      "text/plain": [
       "[Date(15,1,2015), Date(15,7,2015), Date(15,1,2016)]"
      ]
     },
     "execution_count": 19,
     "metadata": {},
     "output_type": "execute_result"
    }
   ],
   "source": [
    "schedule = ql.Schedule(issueDate, maturityDate, tenor, calendar, businessConvention, businessConvention, dateGeneration, monthEnd)\n",
    "list(schedule)"
   ]
  },
  {
   "cell_type": "code",
   "execution_count": 21,
   "metadata": {},
   "outputs": [],
   "source": [
    "# now lets build the coupon\n",
    "dayCount = ql.Thirty360(ql.Thirty360.BondBasis)\n",
    "couponRate = .60\n",
    "coupons = [couponRate]"
   ]
  },
  {
   "cell_type": "code",
   "execution_count": 22,
   "metadata": {},
   "outputs": [],
   "source": [
    "settlementDays = 0\n",
    "faceValue = 100\n",
    "fixedRateBond = ql.FixedRateBond(settlementDays, faceValue, schedule, coupons, dayCount)"
   ]
  },
  {
   "cell_type": "code",
   "execution_count": 28,
   "metadata": {},
   "outputs": [],
   "source": [
    "# create a bond engine with the term structure as input \n",
    "# set the bond to use this bond engine\n",
    "bondEngine = ql.DiscountingBondEngine(spotCurveHandle)\n",
    "fixedRateBond.setPricingEngine(bondEngine)"
   ]
  },
  {
   "cell_type": "code",
   "execution_count": 29,
   "metadata": {},
   "outputs": [
    {
     "data": {
      "text/plain": [
       "159.01735656074857"
      ]
     },
     "execution_count": 29,
     "metadata": {},
     "output_type": "execute_result"
    }
   ],
   "source": [
    "fixedRateBond.NPV() # Net Present Value"
   ]
  }
 ],
 "metadata": {
  "kernelspec": {
   "display_name": "Python 3",
   "language": "python",
   "name": "python3"
  },
  "language_info": {
   "codemirror_mode": {
    "name": "ipython",
    "version": 3
   },
   "file_extension": ".py",
   "mimetype": "text/x-python",
   "name": "python",
   "nbconvert_exporter": "python",
   "pygments_lexer": "ipython3",
   "version": "3.12.4"
  }
 },
 "nbformat": 4,
 "nbformat_minor": 2
}
